{
 "cells": [
  {
   "cell_type": "code",
   "execution_count": 1,
   "id": "d2005768-f44a-47cd-811b-9713275e522f",
   "metadata": {},
   "outputs": [
    {
     "name": "stdin",
     "output_type": "stream",
     "text": [
      "Digite o 1 numero:  3\n",
      "Digite o 2 numero:  6\n",
      "Digite o 3 numero:  9\n"
     ]
    },
    {
     "name": "stdout",
     "output_type": "stream",
     "text": [
      "A soma é 18.00\n"
     ]
    }
   ],
   "source": [
    "#Exercicio 1\n",
    "soma = 0.0\n",
    "for i in range(1, 4):\n",
    "        soma += float(input(f\"Digite o {i} numero: \"))\n",
    "\n",
    "print(f\"A soma é {soma:.2f}\")\n"
   ]
  },
  {
   "cell_type": "code",
   "execution_count": 2,
   "id": "3ad43259-08ba-4940-af6b-150dbaef3a6c",
   "metadata": {},
   "outputs": [
    {
     "name": "stdin",
     "output_type": "stream",
     "text": [
      "Digite a temperatura em Celsius:  100\n"
     ]
    },
    {
     "name": "stdout",
     "output_type": "stream",
     "text": [
      "216\n"
     ]
    }
   ],
   "source": [
    "#Exercicio 2\n",
    "grau = float(input(\"Digite a temperatura em Celsius: \"))\n",
    "\n",
    "grau = grau*(9.2/5.0) + 32.0\n",
    "\n",
    "print(int(grau))\n"
   ]
  },
  {
   "cell_type": "code",
   "execution_count": 3,
   "id": "53262e23-671e-4a06-af59-00e45cd5db98",
   "metadata": {},
   "outputs": [
    {
     "name": "stdin",
     "output_type": "stream",
     "text": [
      "Digite o valor em reais:  12\n",
      "Digite a cotação do dólar:  4\n"
     ]
    },
    {
     "name": "stdout",
     "output_type": "stream",
     "text": [
      "O valor convertido em dólares é: 3.00\n"
     ]
    }
   ],
   "source": [
    "#Exercicio 3\n",
    "valor_reais = float(input(\"Digite o valor em reais: \"))\n",
    "cotacao_dolar = float(input(\"Digite a cotação do dólar: \"))\n",
    "\n",
    "valor_dolares = valor_reais / cotacao_dolar\n",
    "\n",
    "print(\"O valor convertido em dólares é: {:.2f}\".format(valor_dolares))\n"
   ]
  },
  {
   "cell_type": "code",
   "execution_count": 4,
   "id": "b968d126-2de9-4be2-bc9a-c18fa450bb88",
   "metadata": {},
   "outputs": [
    {
     "name": "stdin",
     "output_type": "stream",
     "text": [
      "Digite o número de dias trabalhados:  13\n"
     ]
    },
    {
     "name": "stdout",
     "output_type": "stream",
     "text": [
      "O valor líquido a ser pago é: R$ 358.80\n"
     ]
    }
   ],
   "source": [
    "#Exercicio 4\n",
    "valor_diaria = 30.00\n",
    "taxa_imposto_renda = 0.08  # 8%\n",
    "\n",
    "dias_trabalhados = int(input(\"Digite o número de dias trabalhados: \"))\n",
    "\n",
    "valor_bruto = valor_diaria * dias_trabalhados\n",
    "\n",
    "imposto_renda = valor_bruto * taxa_imposto_renda\n",
    "\n",
    "valor_liquido = valor_bruto - imposto_renda\n",
    "\n",
    "print(\"O valor líquido a ser pago é: R$ {:.2f}\".format(valor_liquido))\n"
   ]
  },
  {
   "cell_type": "code",
   "execution_count": 7,
   "id": "7fe35c8e-ba5b-456b-9b1f-427664faa5d3",
   "metadata": {},
   "outputs": [
    {
     "name": "stdin",
     "output_type": "stream",
     "text": [
      "Digite o cateto a do triangulo:  4\n",
      "Digite o cateto b do triangulo:  5\n",
      "Digite a hipotenusa c do triangulo:  8\n"
     ]
    },
    {
     "name": "stdout",
     "output_type": "stream",
     "text": [
      "A area é 8.18\n"
     ]
    }
   ],
   "source": [
    "#Exercicio 5\n",
    "from math import sqrt\n",
    "\n",
    "a = int(input(\"Digite o cateto a do triangulo: \"))\n",
    "b = int(input(\"Digite o cateto b do triangulo: \"))\n",
    "c = int(input(\"Digite a hipotenusa c do triangulo: \"))\n",
    "\n",
    "s = (a + b + c)/2\n",
    "\n",
    "area = sqrt(s * (s - a)*(s - b)*(s - c))\n",
    "\n",
    "print(f\"A area é {area:.2f}\")\n"
   ]
  },
  {
   "cell_type": "code",
   "execution_count": 6,
   "id": "e97bd1c8-7b1a-4445-9d3b-35e9cf6293b2",
   "metadata": {},
   "outputs": [
    {
     "name": "stdin",
     "output_type": "stream",
     "text": [
      "Digite o primeiro número inteiro:  12\n",
      "Digite o segundo número inteiro:  34\n"
     ]
    },
    {
     "name": "stdout",
     "output_type": "stream",
     "text": [
      "O maior número é: 34\n",
      "A diferença entre os números é: 22\n"
     ]
    }
   ],
   "source": [
    "#Exercicio 6\n",
    "numero1 = int(input(\"Digite o primeiro número inteiro: \"))\n",
    "numero2 = int(input(\"Digite o segundo número inteiro: \"))\n",
    "\n",
    "if numero1 == numero2:\n",
    "    print(\"Os números são iguais.\")\n",
    "else:\n",
    "    if numero1 > numero2:\n",
    "        maior = numero1\n",
    "        diferenca = numero1 - numero2\n",
    "    else:\n",
    "        maior = numero2\n",
    "        diferenca = numero2 - numero1\n",
    "\n",
    "    print(\"O maior número é:\", maior)\n",
    "    print(\"A diferença entre os números é:\", diferenca)\n",
    "\n"
   ]
  },
  {
   "cell_type": "code",
   "execution_count": 8,
   "id": "8f2a462a-fd07-42d7-96a5-e7a915359714",
   "metadata": {},
   "outputs": [
    {
     "name": "stdin",
     "output_type": "stream",
     "text": [
      "Digite um ano:  2020\n"
     ]
    },
    {
     "name": "stdout",
     "output_type": "stream",
     "text": [
      "2020 é um ano bissexto.\n"
     ]
    }
   ],
   "source": [
    "#Exercicio 7\n",
    "ano = int(input(\"Digite um ano: \"))\n",
    "\n",
    "if (ano % 4 == 0 and ano % 100 != 0) or (ano % 400 == 0):\n",
    "    print(ano, \"é um ano bissexto.\")\n",
    "else:\n",
    "    print(ano, \"não é um ano bissexto.\")\n",
    "3"
   ]
  },
  {
   "cell_type": "code",
   "execution_count": 9,
   "id": "e60bdaf8-4ea9-4b85-9a37-5b0311f0c0de",
   "metadata": {},
   "outputs": [
    {
     "name": "stdin",
     "output_type": "stream",
     "text": [
      "Digite um número inteiro:  6\n"
     ]
    },
    {
     "name": "stdout",
     "output_type": "stream",
     "text": [
      "6 é divisível por 3, mas não por 5.\n"
     ]
    }
   ],
   "source": [
    "#Exercicio 8\n",
    "numero = int(input(\"Digite um número inteiro: \"))\n",
    "\n",
    "if (numero % 3 == 0) != (numero % 5 == 0):\n",
    "    if numero % 3 == 0:\n",
    "        print(numero, \"é divisível por 3, mas não por 5.\")\n",
    "    else:\n",
    "        print(numero, \"é divisível por 5, mas não por 3.\")\n",
    "else:\n",
    "    print(numero, \"não atende aos critérios.\")\n",
    "\n",
    "\n"
   ]
  },
  {
   "cell_type": "code",
   "execution_count": 10,
   "id": "8424e7f4-4f56-4d01-be07-5e5e49226d97",
   "metadata": {},
   "outputs": [
    {
     "name": "stdin",
     "output_type": "stream",
     "text": [
      "Digite a idade do trabalhador:  63\n",
      "Digite o sexo do trabalhador (M para masculino, F para feminino):  f\n",
      "Digite o tempo de serviço do trabalhador (em anos):  23\n"
     ]
    },
    {
     "name": "stdout",
     "output_type": "stream",
     "text": [
      "O trabalhador não pode se aposentar.\n"
     ]
    }
   ],
   "source": [
    "#Exercicio 9\n",
    "idade = int(input(\"Digite a idade do trabalhador: \"))\n",
    "sexo = input(\"Digite o sexo do trabalhador (M para masculino, F para feminino): \")\n",
    "tempo_servico = int(input(\"Digite o tempo de serviço do trabalhador (em anos): \"))\n",
    "\n",
    "if (sexo == \"F\" and idade >= 60) or (sexo == \"M\" and idade >= 65):\n",
    "    print(\"O trabalhador pode se aposentar.\")\n",
    "elif tempo_servico >= 30:\n",
    "    print(\"O trabalhador pode se aposentar.\")\n",
    "elif idade >= 60 and tempo_servico >= 25:\n",
    "    print(\"O trabalhador pode se aposentar.\")\n",
    "else:\n",
    "    print(\"O trabalhador não pode se aposentar.\")\n"
   ]
  },
  {
   "cell_type": "code",
   "execution_count": 2,
   "id": "40118c9f-b643-436c-b9bc-2f84fe7077e1",
   "metadata": {},
   "outputs": [
    {
     "name": "stdin",
     "output_type": "stream",
     "text": [
      "Digite a altura (em metros):  1.60\n",
      "Digite o peso (em kg):  90\n"
     ]
    },
    {
     "name": "stdout",
     "output_type": "stream",
     "text": [
      "A classificação dessa pessoa é: E\n"
     ]
    }
   ],
   "source": [
    "#Exercicio 10\n",
    "def classificar_pessoa(altura, peso):\n",
    "    if altura < 1.50:\n",
    "        if peso <= 60:\n",
    "            return 'A'\n",
    "        elif peso <= 90:\n",
    "            return 'D'\n",
    "        else:\n",
    "            return 'G'\n",
    "    elif altura <= 1.80:\n",
    "        if peso <= 60:\n",
    "            return 'B'\n",
    "        elif peso <= 90:\n",
    "            return 'E'\n",
    "        else:\n",
    "            return 'H'\n",
    "    else:\n",
    "        if peso <= 60:\n",
    "            return 'C'\n",
    "        elif peso <= 90:\n",
    "            return 'F'\n",
    "        else:\n",
    "            return 'I'\n",
    "\n",
    "altura = float(input(\"Digite a altura (em metros): \"))\n",
    "peso = float(input(\"Digite o peso (em kg): \"))\n",
    "\n",
    "classificacao = classificar_pessoa(altura, peso)\n",
    "\n",
    "print(f\"A classificação dessa pessoa é: {classificacao}\")\n"
   ]
  },
  {
   "cell_type": "code",
   "execution_count": 3,
   "id": "f30b29bc-6a9b-42ad-8a2f-1fa922a74038",
   "metadata": {},
   "outputs": [
    {
     "name": "stdout",
     "output_type": "stream",
     "text": [
      "Escolha a média desejada:\n",
      "1 - Média Geométrica\n",
      "2 - Média Ponderada\n",
      "3 - Média Harmônica\n",
      "4 - Média Aritmética\n"
     ]
    },
    {
     "name": "stdin",
     "output_type": "stream",
     "text": [
      "Digite o número correspondente à média desejada:  1\n",
      "Digite o primeiro número:  2\n",
      "Digite o segundo número:  2\n",
      "Digite o terceiro número:  2\n"
     ]
    },
    {
     "name": "stdout",
     "output_type": "stream",
     "text": [
      "A média é: 2.0\n"
     ]
    }
   ],
   "source": [
    "#Exercicio 11\n",
    "def media_geometrica(a, b, c):\n",
    "    return (a * b * c) ** (1/3)\n",
    "\n",
    "def media_ponderada(a, b, c):\n",
    "    return (a + 2*b + 3*c) / 6\n",
    "\n",
    "def media_harmonica(a, b, c):\n",
    "    return 1 / (1/a + 1/b + 1/c)\n",
    "\n",
    "def media_aritmetica(a, b, c):\n",
    "    return (a + b + c) / 3\n",
    "\n",
    "def menu():\n",
    "    print(\"Escolha a média desejada:\")\n",
    "    print(\"1 - Média Geométrica\")\n",
    "    print(\"2 - Média Ponderada\")\n",
    "    print(\"3 - Média Harmônica\")\n",
    "    print(\"4 - Média Aritmética\")\n",
    "\n",
    "    escolha = int(input(\"Digite o número correspondente à média desejada: \"))\n",
    "\n",
    "    if escolha < 1 or escolha > 4:\n",
    "        print(\"Opção inválida. Por favor, escolha uma opção válida.\")\n",
    "        return\n",
    "\n",
    "    a = int(input(\"Digite o primeiro número: \"))\n",
    "    b = int(input(\"Digite o segundo número: \"))\n",
    "    c = int(input(\"Digite o terceiro número: \"))\n",
    "\n",
    "    if escolha == 1:\n",
    "        resultado = media_geometrica(a, b, c)\n",
    "    elif escolha == 2:\n",
    "        resultado = media_ponderada(a, b, c)\n",
    "    elif escolha == 3:\n",
    "        resultado = media_harmonica(a, b, c)\n",
    "    elif escolha == 4:\n",
    "        resultado = media_aritmetica(a, b, c)\n",
    "\n",
    "    print(f\"A média é: {resultado}\")\n",
    "\n",
    "menu()\n"
   ]
  },
  {
   "cell_type": "code",
   "execution_count": 5,
   "id": "ebe7827d-70e9-420d-b68d-994966d8fd53",
   "metadata": {},
   "outputs": [
    {
     "name": "stdin",
     "output_type": "stream",
     "text": [
      "Digite o primeiro número:  24\n",
      "Digite o segundo número:  18\n"
     ]
    },
    {
     "name": "stdout",
     "output_type": "stream",
     "text": [
      "O MDC entre 24 e 18 é: 6\n"
     ]
    }
   ],
   "source": [
    "#Exercicio 12\n",
    "def calcular_mdc(a, b):\n",
    "    while b:\n",
    "        a, b = b, a % b\n",
    "    return a\n",
    "\n",
    "def main():\n",
    "    try:\n",
    "        num1 = int(input(\"Digite o primeiro número: \"))\n",
    "        num2 = int(input(\"Digite o segundo número: \"))\n",
    "        \n",
    "        if num1 <= 0 or num2 <= 0:\n",
    "            print(\"Por favor, insira números inteiros positivos.\")\n",
    "            return\n",
    "\n",
    "        mdc = calcular_mdc(num1, num2)\n",
    "        print(f\"O MDC entre {num1} e {num2} é: {mdc}\")\n",
    "\n",
    "    except ValueError:\n",
    "        print(\"Por favor, insira números inteiros.\")\n",
    "\n",
    "main()\n"
   ]
  },
  {
   "cell_type": "code",
   "execution_count": 8,
   "id": "a9ce61ae-b5de-4a08-b103-d6019aa86914",
   "metadata": {},
   "outputs": [
    {
     "name": "stdin",
     "output_type": "stream",
     "text": [
      "Digite o valor de N:  10\n",
      "Digite o valor de M:  20\n"
     ]
    },
    {
     "name": "stdout",
     "output_type": "stream",
     "text": [
      "11\n",
      "13\n",
      "15\n",
      "17\n",
      "19\n"
     ]
    }
   ],
   "source": [
    "#Exercicio 13\n",
    "def numeros_impares_entre_n_e_m(n, m):\n",
    "    # Verifica se n é par, se for, incrementa para o próximo ímpar\n",
    "    if n % 2 == 0:\n",
    "        n += 1\n",
    "    \n",
    "    # Itera pelos números ímpares entre n e m\n",
    "    for i in range(n, m, 2):\n",
    "        print(i)\n",
    "\n",
    "# Leitura dos valores de N e M\n",
    "n = int(input(\"Digite o valor de N: \"))\n",
    "m = int(input(\"Digite o valor de M: \"))\n",
    "\n",
    "# Chama a função para imprimir os números ímpares entre N e M\n",
    "numeros_impares_entre_n_e_m(n, m)\n"
   ]
  },
  {
   "cell_type": "code",
   "execution_count": 12,
   "id": "7817a30f-559c-4b31-b183-400e1e661a41",
   "metadata": {},
   "outputs": [
    {
     "name": "stdin",
     "output_type": "stream",
     "text": [
      "Digite um valor inteiro para N linhas:  6\n"
     ]
    },
    {
     "name": "stdout",
     "output_type": "stream",
     "text": [
      "1 \n",
      "2 3 \n",
      "4 5 6 \n",
      "7 8 9 10 \n",
      "11 12 13 14 15 \n",
      "16 17 18 19 20 21 \n"
     ]
    }
   ],
   "source": [
    "#Exercicio 14\n",
    "n = int(input('Digite um valor inteiro para N linhas: '))\n",
    "num = 1\n",
    "for c in range(1, n+1):\n",
    "    for i in range(0, c):\n",
    "        print(num, end=' ')\n",
    "        num += 1\n",
    "    print(\"\")"
   ]
  },
  {
   "cell_type": "code",
   "execution_count": 13,
   "id": "a53ba81a-69d2-4fb0-bdda-b7336a554ced",
   "metadata": {},
   "outputs": [
    {
     "name": "stdin",
     "output_type": "stream",
     "text": [
      "Digite o valor do vale-alimentação:  20\n",
      "Digite o valor do transporte unitário:  5.60\n",
      "Digite quantos metros quadrados trabalhou:  12\n"
     ]
    },
    {
     "name": "stdout",
     "output_type": "stream",
     "text": [
      "O pedreiro deve receber R$ 169.20\n"
     ]
    }
   ],
   "source": [
    "#Exercicio 15\n",
    "def calcular_pagamento(vale_alimentacao, valor_transporte, metros_quadrados):\n",
    "    if metros_quadrados < 10:\n",
    "        valor_metro_quadrado = 10.00\n",
    "    elif 10 <= metros_quadrados <= 20:\n",
    "        valor_metro_quadrado = 11.50\n",
    "    else:\n",
    "        valor_metro_quadrado = 13.00\n",
    "    \n",
    "    valor_servico = metros_quadrados * valor_metro_quadrado\n",
    "    valor_transporte_total = 2 * valor_transporte\n",
    "    \n",
    "    total_a_pagar = valor_servico + vale_alimentacao + valor_transporte_total\n",
    "    \n",
    "    return total_a_pagar\n",
    "\n",
    "# Leitura dos valores\n",
    "vale_alimentacao = float(input(\"Digite o valor do vale-alimentação: \"))\n",
    "valor_transporte = float(input(\"Digite o valor do transporte unitário: \"))\n",
    "metros_quadrados = float(input(\"Digite quantos metros quadrados trabalhou: \"))\n",
    "\n",
    "# Chama a função para calcular o pagamento\n",
    "valor_a_pagar = calcular_pagamento(vale_alimentacao, valor_transporte, metros_quadrados)\n",
    "\n",
    "# Imprime o resultado\n",
    "print(f\"O pedreiro deve receber R$ {valor_a_pagar:.2f}\")\n"
   ]
  },
  {
   "cell_type": "code",
   "execution_count": null,
   "id": "b3f56925-65e6-4625-8c29-b3f0fdfdd4b0",
   "metadata": {},
   "outputs": [],
   "source": []
  },
  {
   "cell_type": "code",
   "execution_count": 15,
   "id": "3db4d785-6077-4800-a75d-bd68df3fc473",
   "metadata": {},
   "outputs": [
    {
     "name": "stdin",
     "output_type": "stream",
     "text": [
      "Digite a quantidade de termos (n):  20\n",
      "Digite o primeiro termo (a1):  1\n",
      "Digite a razão (r):  2.7\n"
     ]
    },
    {
     "name": "stdout",
     "output_type": "stream",
     "text": [
      "533.0\n"
     ]
    }
   ],
   "source": [
    "#Exercicio 16\n",
    "def soma_pa(n, a1, r):\n",
    "    soma = (n * (2 * a1 + (n - 1) * r)) / 2\n",
    "    return soma\n",
    "\n",
    "# Leitura dos valores\n",
    "n = int(input(\"Digite a quantidade de termos (n): \"))\n",
    "a1 = float(input(\"Digite o primeiro termo (a1): \"))\n",
    "r = float(input(\"Digite a razão (r): \"))\n",
    "\n",
    "# Chama a função para calcular a soma da PA\n",
    "resultado = soma_pa(n, a1, r)\n",
    "\n",
    "# Imprime o resultado\n",
    "print(f\"{resultado}\")\n"
   ]
  },
  {
   "cell_type": "code",
   "execution_count": 16,
   "id": "25d4a5d0-c4a6-42a3-b59f-bfb33d734d20",
   "metadata": {},
   "outputs": [
    {
     "name": "stdin",
     "output_type": "stream",
     "text": [
      "Digite o valor de n:  3\n",
      "Digite o valor de x:  21\n"
     ]
    },
    {
     "name": "stdout",
     "output_type": "stream",
     "text": [
      "0, 3, 6, 9, 12, 15, 18, 21\n"
     ]
    }
   ],
   "source": [
    "#Exercicio 17\n",
    "def imprimir_multiplos(n, x):\n",
    "    # Inicializa uma lista para armazenar os múltiplos\n",
    "    multiplos = []\n",
    "\n",
    "    # Itera de 0 até x\n",
    "    for i in range(x+1):\n",
    "        if i % n == 0:\n",
    "            multiplos.append(str(i))\n",
    "\n",
    "    # Imprime os múltiplos separados por vírgula\n",
    "    print(\", \".join(multiplos))\n",
    "\n",
    "# Leitura dos valores de n e x\n",
    "n = int(input(\"Digite o valor de n: \"))\n",
    "x = int(input(\"Digite o valor de x: \"))\n",
    "\n",
    "# Chama a função para imprimir os múltiplos\n",
    "imprimir_multiplos(n, x)\n"
   ]
  },
  {
   "cell_type": "code",
   "execution_count": 17,
   "id": "89b4bad8-6668-499d-805e-9bd52cc3e7fc",
   "metadata": {},
   "outputs": [
    {
     "name": "stdout",
     "output_type": "stream",
     "text": [
      "\n",
      "Escolha uma opção:\n",
      "1. Verificar se um número é primo\n",
      "2. Calcular o MMC de dois números\n",
      "3. Calcular a soma dos dígitos de um número\n",
      "4. Encontrar o n-ésimo número primo\n",
      "5. Adicionar um segundo a um horário\n",
      "6. Sair\n"
     ]
    },
    {
     "name": "stdin",
     "output_type": "stream",
     "text": [
      "Digite o número da opção desejada:  1\n",
      "Digite um número:  13\n"
     ]
    },
    {
     "name": "stdout",
     "output_type": "stream",
     "text": [
      "13 é primo.\n",
      "\n",
      "Escolha uma opção:\n",
      "1. Verificar se um número é primo\n",
      "2. Calcular o MMC de dois números\n",
      "3. Calcular a soma dos dígitos de um número\n",
      "4. Encontrar o n-ésimo número primo\n",
      "5. Adicionar um segundo a um horário\n",
      "6. Sair\n"
     ]
    },
    {
     "name": "stdin",
     "output_type": "stream",
     "text": [
      "Digite o número da opção desejada:  6\n"
     ]
    }
   ],
   "source": [
    "#Exercicio 18\n",
    "import math\n",
    "\n",
    "def eh_primo(x):\n",
    "    if x < 2:\n",
    "        return False\n",
    "    for i in range(2, int(math.sqrt(x)) + 1):\n",
    "        if x % i == 0:\n",
    "            return False\n",
    "    return True\n",
    "\n",
    "def calcular_mmc(x, y):\n",
    "    return x * y // math.gcd(x, y)\n",
    "\n",
    "def soma_digitos(x):\n",
    "    total = 0\n",
    "    while x > 0:\n",
    "        total += x % 10\n",
    "        x //= 10\n",
    "    return total\n",
    "\n",
    "def n_esimo_primo(n):\n",
    "    count = 0\n",
    "    num = 2\n",
    "    while True:\n",
    "        if eh_primo(num):\n",
    "            count += 1\n",
    "            if count == n:\n",
    "                return num\n",
    "        num += 1\n",
    "\n",
    "def adicionar_um_segundo(h, m, s):\n",
    "    s += 1\n",
    "    if s == 60:\n",
    "        s = 0\n",
    "        m += 1\n",
    "        if m == 60:\n",
    "            m = 0\n",
    "            h += 1\n",
    "            if h == 24:\n",
    "                h = 0\n",
    "    return h, m, s\n",
    "\n",
    "while True:\n",
    "    print(\"\\nEscolha uma opção:\")\n",
    "    print(\"1. Verificar se um número é primo\")\n",
    "    print(\"2. Calcular o MMC de dois números\")\n",
    "    print(\"3. Calcular a soma dos dígitos de um número\")\n",
    "    print(\"4. Encontrar o n-ésimo número primo\")\n",
    "    print(\"5. Adicionar um segundo a um horário\")\n",
    "    print(\"6. Sair\")\n",
    "   \n",
    "    escolha = int(input(\"Digite o número da opção desejada: \"))\n",
    "   \n",
    "    if escolha == 1:\n",
    "        x = int(input(\"Digite um número: \"))\n",
    "        if eh_primo(x):\n",
    "            print(f\"{x} é primo.\")\n",
    "        else:\n",
    "            print(f\"{x} não é primo.\")\n",
    "    elif escolha == 2:\n",
    "        x = int(input(\"Digite o primeiro número: \"))\n",
    "        y = int(input(\"Digite o segundo número: \"))\n",
    "        print(f\"O MMC de {x} e {y} é {calcular_mmc(x, y)}.\")\n",
    "    elif escolha == 3:\n",
    "        x = int(input(\"Digite um número: \"))\n",
    "        print(f\"A soma dos dígitos de {x} é {soma_digitos(x)}.\")\n",
    "    elif escolha == 4:\n",
    "        n = int(input(\"Digite o valor de n: \"))\n",
    "        print(f\"O {n}-ésimo número primo é {n_esimo_primo(n)}.\")\n",
    "    elif escolha == 5:\n",
    "        h = int(input(\"Digite a hora: \"))\n",
    "        m = int(input(\"Digite os minutos: \"))\n",
    "        s = int(input(\"Digite os segundos: \"))\n",
    "        novo_h, novo_m, novo_s = adicionar_um_segundo(h, m, s)\n",
    "        print(f\"Um segundo depois, será {novo_h:02d}:{novo_m:02d}:{novo_s:02d}.\")\n",
    "    elif escolha == 6:\n",
    "        break\n",
    "    else:\n",
    "        print(\"Opção inválida. Tente novamente.\")"
   ]
  },
  {
   "cell_type": "code",
   "execution_count": null,
   "id": "b51c10a9-3aee-4148-af34-2981872a4128",
   "metadata": {},
   "outputs": [],
   "source": []
  }
 ],
 "metadata": {
  "kernelspec": {
   "display_name": "Python 3 (ipykernel)",
   "language": "python",
   "name": "python3"
  },
  "language_info": {
   "codemirror_mode": {
    "name": "ipython",
    "version": 3
   },
   "file_extension": ".py",
   "mimetype": "text/x-python",
   "name": "python",
   "nbconvert_exporter": "python",
   "pygments_lexer": "ipython3",
   "version": "3.8.10"
  }
 },
 "nbformat": 4,
 "nbformat_minor": 5
}
